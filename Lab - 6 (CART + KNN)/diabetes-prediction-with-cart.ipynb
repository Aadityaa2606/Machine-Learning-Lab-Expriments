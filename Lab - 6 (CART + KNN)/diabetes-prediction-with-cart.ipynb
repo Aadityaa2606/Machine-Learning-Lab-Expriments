{
 "cells": [
  {
   "cell_type": "code",
   "execution_count": 1,
   "metadata": {
    "_cell_guid": "b1076dfc-b9ad-4769-8c92-a6c4dae69d19",
    "_kg_hide-input": true,
    "_kg_hide-output": true,
    "_uuid": "8f2839f25d086af736a60e9eeb907d3b93b6e0e5",
    "execution": {
     "iopub.execute_input": "2021-03-06T01:09:47.151135Z",
     "iopub.status.busy": "2021-03-06T01:09:47.150491Z",
     "iopub.status.idle": "2021-03-06T01:09:47.164178Z",
     "shell.execute_reply": "2021-03-06T01:09:47.163313Z"
    },
    "papermill": {
     "duration": 0.045363,
     "end_time": "2021-03-06T01:09:47.164478",
     "exception": false,
     "start_time": "2021-03-06T01:09:47.119115",
     "status": "completed"
    },
    "tags": []
   },
   "outputs": [
    {
     "name": "stdout",
     "output_type": "stream",
     "text": [
      "/kaggle/input/pima-indians-diabetes-database/diabetes.csv\n"
     ]
    }
   ],
   "source": [
    "# This Python 3 environment comes with many helpful analytics libraries installed\n",
    "# It is defined by the kaggle/python Docker image: https://github.com/kaggle/docker-python\n",
    "# For example, here's several helpful packages to load\n",
    "\n",
    "import numpy as np # linear algebra\n",
    "import pandas as pd # data processing, CSV file I/O (e.g. pd.read_csv)\n",
    "\n",
    "# Input data files are available in the read-only \"../input/\" directory\n",
    "# For example, running this (by clicking run or pressing Shift+Enter) will list all files under the input directory\n",
    "\n",
    "import os\n",
    "for dirname, _, filenames in os.walk('/kaggle/input'):\n",
    "    for filename in filenames:\n",
    "        print(os.path.join(dirname, filename))\n",
    "\n",
    "# You can write up to 20GB to the current directory (/kaggle/working/) that gets preserved as output when you create a version using \"Save & Run All\" \n",
    "# You can also write temporary files to /kaggle/temp/, but they won't be saved outside of the current session"
   ]
  },
  {
   "cell_type": "markdown",
   "metadata": {
    "papermill": {
     "duration": 0.024103,
     "end_time": "2021-03-06T01:09:47.214596",
     "exception": false,
     "start_time": "2021-03-06T01:09:47.190493",
     "status": "completed"
    },
    "tags": []
   },
   "source": [
    "## Diabetes Prediction with CART Algorithm"
   ]
  },
  {
   "cell_type": "markdown",
   "metadata": {
    "papermill": {
     "duration": 0.024084,
     "end_time": "2021-03-06T01:09:47.263065",
     "exception": false,
     "start_time": "2021-03-06T01:09:47.238981",
     "status": "completed"
    },
    "tags": []
   },
   "source": [
    "**Diabetes**, is a group of metabolic disorders in which there are high blood sugar levels over a prolonged period. Symptoms of high blood sugar include frequent urination, increased thirst, and increased hunger. If left untreated, diabetes can cause many complications. Acute complications can include diabetic ketoacidosis, hyperosmolar hyperglycemic state, or death. Serious long-term complications include cardiovascular disease, stroke, chronic kidney disease, foot ulcers, and damage to the eyes."
   ]
  },
  {
   "cell_type": "markdown",
   "metadata": {
    "papermill": {
     "duration": 0.026006,
     "end_time": "2021-03-06T01:09:47.313655",
     "exception": false,
     "start_time": "2021-03-06T01:09:47.287649",
     "status": "completed"
    },
    "tags": []
   },
   "source": [
    "## Data Set and Story"
   ]
  },
  {
   "cell_type": "markdown",
   "metadata": {
    "papermill": {
     "duration": 0.024008,
     "end_time": "2021-03-06T01:09:47.361960",
     "exception": false,
     "start_time": "2021-03-06T01:09:47.337952",
     "status": "completed"
    },
    "tags": []
   },
   "source": [
    "This dataset is originally from the National Institute of Diabetes and Digestive and Kidney Diseases. The objective of the dataset is to diagnostically predict whether or not a patient has diabetes, based on certain diagnostic measurements included in the dataset. Several constraints were placed on the selection of these instances from a larger database. In particular, all patients here are females at least 21 years old of Pima Indian heritage."
   ]
  },
  {
   "cell_type": "markdown",
   "metadata": {
    "papermill": {
     "duration": 0.024365,
     "end_time": "2021-03-06T01:09:47.410660",
     "exception": false,
     "start_time": "2021-03-06T01:09:47.386295",
     "status": "completed"
    },
    "tags": []
   },
   "source": [
    "* Pregnancies: Number of times pregnant\n",
    "* Glucose: Glucose\n",
    "* BloodPressure: Blood pressure \n",
    "* SkinThickness: Triceps skin fold thickness\n",
    "* Insulin: Insulin\n",
    "* BMI: Body mass index \n",
    "* DiabetesPedigreeFunction: Diabetes pedigree function\n",
    "* Age: Age (years)\n",
    "* Outcome: The knowledge of whether there is diabetes (this is our target)"
   ]
  },
  {
   "cell_type": "code",
   "execution_count": 2,
   "metadata": {
    "_kg_hide-input": true,
    "_kg_hide-output": true,
    "execution": {
     "iopub.execute_input": "2021-03-06T01:09:47.477603Z",
     "iopub.status.busy": "2021-03-06T01:09:47.464523Z",
     "iopub.status.idle": "2021-03-06T01:09:57.888904Z",
     "shell.execute_reply": "2021-03-06T01:09:57.888120Z"
    },
    "papermill": {
     "duration": 10.453643,
     "end_time": "2021-03-06T01:09:57.889064",
     "exception": false,
     "start_time": "2021-03-06T01:09:47.435421",
     "status": "completed"
    },
    "tags": []
   },
   "outputs": [
    {
     "name": "stdout",
     "output_type": "stream",
     "text": [
      "Collecting skompiler\r\n",
      "  Downloading SKompiler-0.5.5.tar.gz (48 kB)\r\n",
      "\u001b[K     |████████████████████████████████| 48 kB 609 kB/s \r\n",
      "\u001b[?25hRequirement already satisfied: scikit-learn in /opt/conda/lib/python3.7/site-packages (from skompiler) (0.24.1)\r\n",
      "Requirement already satisfied: scipy>=0.19.1 in /opt/conda/lib/python3.7/site-packages (from scikit-learn->skompiler) (1.5.4)\r\n",
      "Requirement already satisfied: numpy>=1.13.3 in /opt/conda/lib/python3.7/site-packages (from scikit-learn->skompiler) (1.19.5)\r\n",
      "Requirement already satisfied: threadpoolctl>=2.0.0 in /opt/conda/lib/python3.7/site-packages (from scikit-learn->skompiler) (2.1.0)\r\n",
      "Requirement already satisfied: joblib>=0.11 in /opt/conda/lib/python3.7/site-packages (from scikit-learn->skompiler) (1.0.0)\r\n",
      "Building wheels for collected packages: skompiler\r\n",
      "  Building wheel for skompiler (setup.py) ... \u001b[?25l-\b \b\\\b \bdone\r\n",
      "\u001b[?25h  Created wheel for skompiler: filename=SKompiler-0.5.5-py3-none-any.whl size=57146 sha256=73bf1608e85850a7236ac7e2779aa21eb12346c677b09f9fd37c894e54548b68\r\n",
      "  Stored in directory: /root/.cache/pip/wheels/1f/f6/09/b8aec43d39ab30463488d91526f29ba56155a6a6d61cf69986\r\n",
      "Successfully built skompiler\r\n",
      "Installing collected packages: skompiler\r\n",
      "Successfully installed skompiler-0.5.5\r\n"
     ]
    }
   ],
   "source": [
    "!pip install skompiler"
   ]
  },
  {
   "cell_type": "code",
   "execution_count": 3,
   "metadata": {
    "execution": {
     "iopub.execute_input": "2021-03-06T01:09:57.953849Z",
     "iopub.status.busy": "2021-03-06T01:09:57.952626Z",
     "iopub.status.idle": "2021-03-06T01:09:59.077142Z",
     "shell.execute_reply": "2021-03-06T01:09:59.076276Z"
    },
    "papermill": {
     "duration": 1.15949,
     "end_time": "2021-03-06T01:09:59.077286",
     "exception": false,
     "start_time": "2021-03-06T01:09:57.917796",
     "status": "completed"
    },
    "tags": []
   },
   "outputs": [],
   "source": [
    "# Importing the libraries necessary for the exercise.\n",
    "import warnings\n",
    "import pandas as pd\n",
    "import numpy as np\n",
    "from skompiler import skompile\n",
    "from sklearn import preprocessing\n",
    "from sklearn.tree import DecisionTreeClassifier, export_graphviz, export_text\n",
    "from sklearn.model_selection import train_test_split\n",
    "from sklearn.metrics import *\n",
    "from sklearn.model_selection import *\n",
    "from sklearn.exceptions import ConvergenceWarning\n",
    "warnings.simplefilter(action='ignore', category=FutureWarning)\n",
    "warnings.simplefilter(\"ignore\", category=ConvergenceWarning)\n"
   ]
  },
  {
   "cell_type": "code",
   "execution_count": 4,
   "metadata": {
    "execution": {
     "iopub.execute_input": "2021-03-06T01:09:59.137349Z",
     "iopub.status.busy": "2021-03-06T01:09:59.136731Z",
     "iopub.status.idle": "2021-03-06T01:09:59.279054Z",
     "shell.execute_reply": "2021-03-06T01:09:59.278561Z"
    },
    "papermill": {
     "duration": 0.172822,
     "end_time": "2021-03-06T01:09:59.279196",
     "exception": false,
     "start_time": "2021-03-06T01:09:59.106374",
     "status": "completed"
    },
    "tags": []
   },
   "outputs": [
    {
     "data": {
      "text/html": [
       "<div>\n",
       "<style scoped>\n",
       "    .dataframe tbody tr th:only-of-type {\n",
       "        vertical-align: middle;\n",
       "    }\n",
       "\n",
       "    .dataframe tbody tr th {\n",
       "        vertical-align: top;\n",
       "    }\n",
       "\n",
       "    .dataframe thead th {\n",
       "        text-align: right;\n",
       "    }\n",
       "</style>\n",
       "<table border=\"1\" class=\"dataframe\">\n",
       "  <thead>\n",
       "    <tr style=\"text-align: right;\">\n",
       "      <th></th>\n",
       "      <th>Pregnancies</th>\n",
       "      <th>Glucose</th>\n",
       "      <th>BloodPressure</th>\n",
       "      <th>SkinThickness</th>\n",
       "      <th>Insulin</th>\n",
       "      <th>BMI</th>\n",
       "      <th>DiabetesPedigreeFunction</th>\n",
       "      <th>Age</th>\n",
       "      <th>Outcome</th>\n",
       "    </tr>\n",
       "  </thead>\n",
       "  <tbody>\n",
       "    <tr>\n",
       "      <th>0</th>\n",
       "      <td>6</td>\n",
       "      <td>148</td>\n",
       "      <td>72</td>\n",
       "      <td>35</td>\n",
       "      <td>0</td>\n",
       "      <td>33.6</td>\n",
       "      <td>0.627</td>\n",
       "      <td>50</td>\n",
       "      <td>1</td>\n",
       "    </tr>\n",
       "    <tr>\n",
       "      <th>1</th>\n",
       "      <td>1</td>\n",
       "      <td>85</td>\n",
       "      <td>66</td>\n",
       "      <td>29</td>\n",
       "      <td>0</td>\n",
       "      <td>26.6</td>\n",
       "      <td>0.351</td>\n",
       "      <td>31</td>\n",
       "      <td>0</td>\n",
       "    </tr>\n",
       "    <tr>\n",
       "      <th>2</th>\n",
       "      <td>8</td>\n",
       "      <td>183</td>\n",
       "      <td>64</td>\n",
       "      <td>0</td>\n",
       "      <td>0</td>\n",
       "      <td>23.3</td>\n",
       "      <td>0.672</td>\n",
       "      <td>32</td>\n",
       "      <td>1</td>\n",
       "    </tr>\n",
       "    <tr>\n",
       "      <th>3</th>\n",
       "      <td>1</td>\n",
       "      <td>89</td>\n",
       "      <td>66</td>\n",
       "      <td>23</td>\n",
       "      <td>94</td>\n",
       "      <td>28.1</td>\n",
       "      <td>0.167</td>\n",
       "      <td>21</td>\n",
       "      <td>0</td>\n",
       "    </tr>\n",
       "    <tr>\n",
       "      <th>4</th>\n",
       "      <td>0</td>\n",
       "      <td>137</td>\n",
       "      <td>40</td>\n",
       "      <td>35</td>\n",
       "      <td>168</td>\n",
       "      <td>43.1</td>\n",
       "      <td>2.288</td>\n",
       "      <td>33</td>\n",
       "      <td>1</td>\n",
       "    </tr>\n",
       "  </tbody>\n",
       "</table>\n",
       "</div>"
      ],
      "text/plain": [
       "   Pregnancies  Glucose  BloodPressure  SkinThickness  Insulin   BMI  \\\n",
       "0            6      148             72             35        0  33.6   \n",
       "1            1       85             66             29        0  26.6   \n",
       "2            8      183             64              0        0  23.3   \n",
       "3            1       89             66             23       94  28.1   \n",
       "4            0      137             40             35      168  43.1   \n",
       "\n",
       "   DiabetesPedigreeFunction  Age  Outcome  \n",
       "0                     0.627   50        1  \n",
       "1                     0.351   31        0  \n",
       "2                     0.672   32        1  \n",
       "3                     0.167   21        0  \n",
       "4                     2.288   33        1  "
      ]
     },
     "execution_count": 4,
     "metadata": {},
     "output_type": "execute_result"
    }
   ],
   "source": [
    "# Reading dataset\n",
    "df = pd.read_csv(\"../input/pima-indians-diabetes-database/diabetes.csv\")\n",
    "\n",
    "# Looking at the first 5 rows of the data set\n",
    "df.head()"
   ]
  },
  {
   "cell_type": "code",
   "execution_count": 5,
   "metadata": {
    "execution": {
     "iopub.execute_input": "2021-03-06T01:09:59.340419Z",
     "iopub.status.busy": "2021-03-06T01:09:59.339742Z",
     "iopub.status.idle": "2021-03-06T01:09:59.358356Z",
     "shell.execute_reply": "2021-03-06T01:09:59.357786Z"
    },
    "papermill": {
     "duration": 0.050168,
     "end_time": "2021-03-06T01:09:59.358522",
     "exception": false,
     "start_time": "2021-03-06T01:09:59.308354",
     "status": "completed"
    },
    "tags": []
   },
   "outputs": [
    {
     "name": "stdout",
     "output_type": "stream",
     "text": [
      "<class 'pandas.core.frame.DataFrame'>\n",
      "RangeIndex: 768 entries, 0 to 767\n",
      "Data columns (total 9 columns):\n",
      " #   Column                    Non-Null Count  Dtype  \n",
      "---  ------                    --------------  -----  \n",
      " 0   Pregnancies               768 non-null    int64  \n",
      " 1   Glucose                   768 non-null    int64  \n",
      " 2   BloodPressure             768 non-null    int64  \n",
      " 3   SkinThickness             768 non-null    int64  \n",
      " 4   Insulin                   768 non-null    int64  \n",
      " 5   BMI                       768 non-null    float64\n",
      " 6   DiabetesPedigreeFunction  768 non-null    float64\n",
      " 7   Age                       768 non-null    int64  \n",
      " 8   Outcome                   768 non-null    int64  \n",
      "dtypes: float64(2), int64(7)\n",
      "memory usage: 54.1 KB\n"
     ]
    }
   ],
   "source": [
    "# Getting general information about the data set\n",
    "df.info()"
   ]
  },
  {
   "cell_type": "markdown",
   "metadata": {
    "papermill": {
     "duration": 0.02898,
     "end_time": "2021-03-06T01:09:59.417358",
     "exception": false,
     "start_time": "2021-03-06T01:09:59.388378",
     "status": "completed"
    },
    "tags": []
   },
   "source": [
    "## EDA"
   ]
  },
  {
   "cell_type": "code",
   "execution_count": 6,
   "metadata": {
    "execution": {
     "iopub.execute_input": "2021-03-06T01:09:59.485116Z",
     "iopub.status.busy": "2021-03-06T01:09:59.484518Z",
     "iopub.status.idle": "2021-03-06T01:09:59.519434Z",
     "shell.execute_reply": "2021-03-06T01:09:59.519922Z"
    },
    "papermill": {
     "duration": 0.072572,
     "end_time": "2021-03-06T01:09:59.520091",
     "exception": false,
     "start_time": "2021-03-06T01:09:59.447519",
     "status": "completed"
    },
    "tags": []
   },
   "outputs": [
    {
     "data": {
      "text/html": [
       "<div>\n",
       "<style scoped>\n",
       "    .dataframe tbody tr th:only-of-type {\n",
       "        vertical-align: middle;\n",
       "    }\n",
       "\n",
       "    .dataframe tbody tr th {\n",
       "        vertical-align: top;\n",
       "    }\n",
       "\n",
       "    .dataframe thead th {\n",
       "        text-align: right;\n",
       "    }\n",
       "</style>\n",
       "<table border=\"1\" class=\"dataframe\">\n",
       "  <thead>\n",
       "    <tr style=\"text-align: right;\">\n",
       "      <th></th>\n",
       "      <th>count</th>\n",
       "      <th>mean</th>\n",
       "      <th>std</th>\n",
       "      <th>min</th>\n",
       "      <th>25%</th>\n",
       "      <th>50%</th>\n",
       "      <th>75%</th>\n",
       "      <th>max</th>\n",
       "    </tr>\n",
       "  </thead>\n",
       "  <tbody>\n",
       "    <tr>\n",
       "      <th>Pregnancies</th>\n",
       "      <td>768.0</td>\n",
       "      <td>3.845052</td>\n",
       "      <td>3.369578</td>\n",
       "      <td>0.000</td>\n",
       "      <td>1.00000</td>\n",
       "      <td>3.0000</td>\n",
       "      <td>6.00000</td>\n",
       "      <td>17.00</td>\n",
       "    </tr>\n",
       "    <tr>\n",
       "      <th>Glucose</th>\n",
       "      <td>768.0</td>\n",
       "      <td>120.894531</td>\n",
       "      <td>31.972618</td>\n",
       "      <td>0.000</td>\n",
       "      <td>99.00000</td>\n",
       "      <td>117.0000</td>\n",
       "      <td>140.25000</td>\n",
       "      <td>199.00</td>\n",
       "    </tr>\n",
       "    <tr>\n",
       "      <th>BloodPressure</th>\n",
       "      <td>768.0</td>\n",
       "      <td>69.105469</td>\n",
       "      <td>19.355807</td>\n",
       "      <td>0.000</td>\n",
       "      <td>62.00000</td>\n",
       "      <td>72.0000</td>\n",
       "      <td>80.00000</td>\n",
       "      <td>122.00</td>\n",
       "    </tr>\n",
       "    <tr>\n",
       "      <th>SkinThickness</th>\n",
       "      <td>768.0</td>\n",
       "      <td>20.536458</td>\n",
       "      <td>15.952218</td>\n",
       "      <td>0.000</td>\n",
       "      <td>0.00000</td>\n",
       "      <td>23.0000</td>\n",
       "      <td>32.00000</td>\n",
       "      <td>99.00</td>\n",
       "    </tr>\n",
       "    <tr>\n",
       "      <th>Insulin</th>\n",
       "      <td>768.0</td>\n",
       "      <td>79.799479</td>\n",
       "      <td>115.244002</td>\n",
       "      <td>0.000</td>\n",
       "      <td>0.00000</td>\n",
       "      <td>30.5000</td>\n",
       "      <td>127.25000</td>\n",
       "      <td>846.00</td>\n",
       "    </tr>\n",
       "    <tr>\n",
       "      <th>BMI</th>\n",
       "      <td>768.0</td>\n",
       "      <td>31.992578</td>\n",
       "      <td>7.884160</td>\n",
       "      <td>0.000</td>\n",
       "      <td>27.30000</td>\n",
       "      <td>32.0000</td>\n",
       "      <td>36.60000</td>\n",
       "      <td>67.10</td>\n",
       "    </tr>\n",
       "    <tr>\n",
       "      <th>DiabetesPedigreeFunction</th>\n",
       "      <td>768.0</td>\n",
       "      <td>0.471876</td>\n",
       "      <td>0.331329</td>\n",
       "      <td>0.078</td>\n",
       "      <td>0.24375</td>\n",
       "      <td>0.3725</td>\n",
       "      <td>0.62625</td>\n",
       "      <td>2.42</td>\n",
       "    </tr>\n",
       "    <tr>\n",
       "      <th>Age</th>\n",
       "      <td>768.0</td>\n",
       "      <td>33.240885</td>\n",
       "      <td>11.760232</td>\n",
       "      <td>21.000</td>\n",
       "      <td>24.00000</td>\n",
       "      <td>29.0000</td>\n",
       "      <td>41.00000</td>\n",
       "      <td>81.00</td>\n",
       "    </tr>\n",
       "    <tr>\n",
       "      <th>Outcome</th>\n",
       "      <td>768.0</td>\n",
       "      <td>0.348958</td>\n",
       "      <td>0.476951</td>\n",
       "      <td>0.000</td>\n",
       "      <td>0.00000</td>\n",
       "      <td>0.0000</td>\n",
       "      <td>1.00000</td>\n",
       "      <td>1.00</td>\n",
       "    </tr>\n",
       "  </tbody>\n",
       "</table>\n",
       "</div>"
      ],
      "text/plain": [
       "                          count        mean         std     min       25%  \\\n",
       "Pregnancies               768.0    3.845052    3.369578   0.000   1.00000   \n",
       "Glucose                   768.0  120.894531   31.972618   0.000  99.00000   \n",
       "BloodPressure             768.0   69.105469   19.355807   0.000  62.00000   \n",
       "SkinThickness             768.0   20.536458   15.952218   0.000   0.00000   \n",
       "Insulin                   768.0   79.799479  115.244002   0.000   0.00000   \n",
       "BMI                       768.0   31.992578    7.884160   0.000  27.30000   \n",
       "DiabetesPedigreeFunction  768.0    0.471876    0.331329   0.078   0.24375   \n",
       "Age                       768.0   33.240885   11.760232  21.000  24.00000   \n",
       "Outcome                   768.0    0.348958    0.476951   0.000   0.00000   \n",
       "\n",
       "                               50%        75%     max  \n",
       "Pregnancies                 3.0000    6.00000   17.00  \n",
       "Glucose                   117.0000  140.25000  199.00  \n",
       "BloodPressure              72.0000   80.00000  122.00  \n",
       "SkinThickness              23.0000   32.00000   99.00  \n",
       "Insulin                    30.5000  127.25000  846.00  \n",
       "BMI                        32.0000   36.60000   67.10  \n",
       "DiabetesPedigreeFunction    0.3725    0.62625    2.42  \n",
       "Age                        29.0000   41.00000   81.00  \n",
       "Outcome                     0.0000    1.00000    1.00  "
      ]
     },
     "execution_count": 6,
     "metadata": {},
     "output_type": "execute_result"
    }
   ],
   "source": [
    "# Looking at the descriptive statistics of the data set\n",
    "df.describe().T"
   ]
  },
  {
   "cell_type": "markdown",
   "metadata": {
    "papermill": {
     "duration": 0.029509,
     "end_time": "2021-03-06T01:09:59.579274",
     "exception": false,
     "start_time": "2021-03-06T01:09:59.549765",
     "status": "completed"
    },
    "tags": []
   },
   "source": [
    "You can see the describe () function of our data set above. In this table, \"min\" shows the smallest number in that variable.\n",
    "\n",
    "We see that the smallest values of Pregnancies, Glucose, BloodPressure, SkinThickness, Insulin and BMI variables are 0. Except for the Pregnancies variable, there is no possibility that any of these variables are 0.\n",
    "\n",
    "Not all 0 values in the \"Pima Indians Diabetes Database\" are actually 0. Empty values are also filled with 0."
   ]
  },
  {
   "cell_type": "code",
   "execution_count": 7,
   "metadata": {
    "execution": {
     "iopub.execute_input": "2021-03-06T01:09:59.641803Z",
     "iopub.status.busy": "2021-03-06T01:09:59.640906Z",
     "iopub.status.idle": "2021-03-06T01:09:59.648504Z",
     "shell.execute_reply": "2021-03-06T01:09:59.648976Z"
    },
    "papermill": {
     "duration": 0.040399,
     "end_time": "2021-03-06T01:09:59.649140",
     "exception": false,
     "start_time": "2021-03-06T01:09:59.608741",
     "status": "completed"
    },
    "tags": []
   },
   "outputs": [
    {
     "data": {
      "text/plain": [
       "Pregnancies                 0\n",
       "Glucose                     0\n",
       "BloodPressure               0\n",
       "SkinThickness               0\n",
       "Insulin                     0\n",
       "BMI                         0\n",
       "DiabetesPedigreeFunction    0\n",
       "Age                         0\n",
       "Outcome                     0\n",
       "dtype: int64"
      ]
     },
     "execution_count": 7,
     "metadata": {},
     "output_type": "execute_result"
    }
   ],
   "source": [
    "# Before solving this problem, let's check the null values.\n",
    "df.isnull().sum()"
   ]
  },
  {
   "cell_type": "code",
   "execution_count": 8,
   "metadata": {
    "execution": {
     "iopub.execute_input": "2021-03-06T01:09:59.713805Z",
     "iopub.status.busy": "2021-03-06T01:09:59.712893Z",
     "iopub.status.idle": "2021-03-06T01:09:59.722634Z",
     "shell.execute_reply": "2021-03-06T01:09:59.723066Z"
    },
    "papermill": {
     "duration": 0.043431,
     "end_time": "2021-03-06T01:09:59.723237",
     "exception": false,
     "start_time": "2021-03-06T01:09:59.679806",
     "status": "completed"
    },
    "tags": []
   },
   "outputs": [],
   "source": [
    "# We can solve this problem by assigning NaN to 0 values in variables that we think are errors.\n",
    "df[[\"Glucose\", \"BloodPressure\", \"SkinThickness\", \"Insulin\", \"BMI\"]] = \\\n",
    "    df[[\"Glucose\", \"BloodPressure\", \"SkinThickness\", \"Insulin\", \"BMI\"]].replace(0, np.NaN)"
   ]
  },
  {
   "cell_type": "code",
   "execution_count": 9,
   "metadata": {
    "execution": {
     "iopub.execute_input": "2021-03-06T01:09:59.787618Z",
     "iopub.status.busy": "2021-03-06T01:09:59.786673Z",
     "iopub.status.idle": "2021-03-06T01:09:59.794606Z",
     "shell.execute_reply": "2021-03-06T01:09:59.795040Z"
    },
    "papermill": {
     "duration": 0.0416,
     "end_time": "2021-03-06T01:09:59.795212",
     "exception": false,
     "start_time": "2021-03-06T01:09:59.753612",
     "status": "completed"
    },
    "tags": []
   },
   "outputs": [
    {
     "data": {
      "text/plain": [
       "Pregnancies                   0\n",
       "Glucose                       5\n",
       "BloodPressure                35\n",
       "SkinThickness               227\n",
       "Insulin                     374\n",
       "BMI                          11\n",
       "DiabetesPedigreeFunction      0\n",
       "Age                           0\n",
       "Outcome                       0\n",
       "dtype: int64"
      ]
     },
     "execution_count": 9,
     "metadata": {},
     "output_type": "execute_result"
    }
   ],
   "source": [
    "# Now let's see how many rows we have assigned NaN instead of 0.\n",
    "df.isnull().sum()"
   ]
  },
  {
   "cell_type": "code",
   "execution_count": 10,
   "metadata": {
    "execution": {
     "iopub.execute_input": "2021-03-06T01:09:59.866631Z",
     "iopub.status.busy": "2021-03-06T01:09:59.865882Z",
     "iopub.status.idle": "2021-03-06T01:09:59.869095Z",
     "shell.execute_reply": "2021-03-06T01:09:59.868576Z"
    },
    "papermill": {
     "duration": 0.043153,
     "end_time": "2021-03-06T01:09:59.869241",
     "exception": false,
     "start_time": "2021-03-06T01:09:59.826088",
     "status": "completed"
    },
    "tags": []
   },
   "outputs": [],
   "source": [
    "# With this function, we were able to separate the variables in the data set as categorical and numerical.\n",
    "def grab_col_names(dataframe, cat_th=10, car_th=20):\n",
    "    cat_cols = [col for col in dataframe.columns if dataframe[col].dtypes == \"O\"]\n",
    "\n",
    "    num_but_cat = [col for col in dataframe.columns if dataframe[col].nunique() < cat_th and\n",
    "                   dataframe[col].dtypes != \"O\"]\n",
    "\n",
    "    cat_but_car = [col for col in dataframe.columns if dataframe[col].nunique() > car_th and\n",
    "                   dataframe[col].dtypes == \"O\"]\n",
    "\n",
    "    cat_cols = cat_cols + num_but_cat\n",
    "    cat_cols = [col for col in cat_cols if col not in cat_but_car]\n",
    "\n",
    "    num_cols = [col for col in dataframe.columns if dataframe[col].dtypes != \"O\"]\n",
    "    num_cols = [col for col in num_cols if col not in num_but_cat]\n",
    "    \n",
    "    print(f'cat_cols: {len(cat_cols)}')\n",
    "    print(f'num_cols: {len(num_cols)}')\n",
    "    print(f'cat_but_car: {len(cat_but_car)}')\n",
    "    print(f'num_but_cat: {len(num_but_cat)}')\n",
    "    \n",
    "    return cat_cols, cat_but_car, num_cols, num_but_cat\n"
   ]
  },
  {
   "cell_type": "code",
   "execution_count": 11,
   "metadata": {
    "execution": {
     "iopub.execute_input": "2021-03-06T01:09:59.939794Z",
     "iopub.status.busy": "2021-03-06T01:09:59.939146Z",
     "iopub.status.idle": "2021-03-06T01:09:59.947293Z",
     "shell.execute_reply": "2021-03-06T01:09:59.948027Z"
    },
    "papermill": {
     "duration": 0.047503,
     "end_time": "2021-03-06T01:09:59.948248",
     "exception": false,
     "start_time": "2021-03-06T01:09:59.900745",
     "status": "completed"
    },
    "tags": []
   },
   "outputs": [
    {
     "name": "stdout",
     "output_type": "stream",
     "text": [
      "cat_cols: 1\n",
      "num_cols: 8\n",
      "cat_but_car: 0\n",
      "num_but_cat: 1\n"
     ]
    }
   ],
   "source": [
    "cat_cols, cat_but_car, num_cols, num_but_cat = grab_col_names(df)"
   ]
  },
  {
   "cell_type": "markdown",
   "metadata": {
    "papermill": {
     "duration": 0.031099,
     "end_time": "2021-03-06T01:10:00.011485",
     "exception": false,
     "start_time": "2021-03-06T01:09:59.980386",
     "status": "completed"
    },
    "tags": []
   },
   "source": [
    "## Outliers"
   ]
  },
  {
   "cell_type": "code",
   "execution_count": 12,
   "metadata": {
    "execution": {
     "iopub.execute_input": "2021-03-06T01:10:00.080826Z",
     "iopub.status.busy": "2021-03-06T01:10:00.079954Z",
     "iopub.status.idle": "2021-03-06T01:10:00.082597Z",
     "shell.execute_reply": "2021-03-06T01:10:00.082056Z"
    },
    "papermill": {
     "duration": 0.039883,
     "end_time": "2021-03-06T01:10:00.082750",
     "exception": false,
     "start_time": "2021-03-06T01:10:00.042867",
     "status": "completed"
    },
    "tags": []
   },
   "outputs": [],
   "source": [
    "# Setting an upper and lower limit for outliers\n",
    "def outlier_thresholds(dataframe, variable):\n",
    "    quartile1 = dataframe[variable].quantile(0.25)\n",
    "    quartile3 = dataframe[variable].quantile(0.75)\n",
    "    interquantile_range = quartile3 - quartile1\n",
    "    up_limit = quartile3 + 1.5 * interquantile_range\n",
    "    low_limit = quartile1 - 1.5 * interquantile_range\n",
    "    return low_limit, up_limit"
   ]
  },
  {
   "cell_type": "code",
   "execution_count": 13,
   "metadata": {
    "execution": {
     "iopub.execute_input": "2021-03-06T01:10:00.152922Z",
     "iopub.status.busy": "2021-03-06T01:10:00.152268Z",
     "iopub.status.idle": "2021-03-06T01:10:00.155451Z",
     "shell.execute_reply": "2021-03-06T01:10:00.154830Z"
    },
    "papermill": {
     "duration": 0.040571,
     "end_time": "2021-03-06T01:10:00.155589",
     "exception": false,
     "start_time": "2021-03-06T01:10:00.115018",
     "status": "completed"
    },
    "tags": []
   },
   "outputs": [],
   "source": [
    "# The function that examines whether there is an outlier according to the threshold values we have determined.\n",
    "def check_outlier(dataframe, col_name):\n",
    "    low_limit, up_limit = outlier_thresholds(dataframe, col_name)\n",
    "    if dataframe[(dataframe[col_name] > up_limit) | (dataframe[col_name] < low_limit)].any(axis=None):\n",
    "        return True\n",
    "    else:\n",
    "        return False"
   ]
  },
  {
   "cell_type": "code",
   "execution_count": 14,
   "metadata": {
    "execution": {
     "iopub.execute_input": "2021-03-06T01:10:00.225120Z",
     "iopub.status.busy": "2021-03-06T01:10:00.224035Z",
     "iopub.status.idle": "2021-03-06T01:10:00.274130Z",
     "shell.execute_reply": "2021-03-06T01:10:00.274791Z"
    },
    "papermill": {
     "duration": 0.087599,
     "end_time": "2021-03-06T01:10:00.275035",
     "exception": false,
     "start_time": "2021-03-06T01:10:00.187436",
     "status": "completed"
    },
    "tags": []
   },
   "outputs": [
    {
     "name": "stdout",
     "output_type": "stream",
     "text": [
      "Pregnancies True\n",
      "Glucose False\n",
      "BloodPressure True\n",
      "SkinThickness True\n",
      "Insulin True\n",
      "BMI True\n",
      "DiabetesPedigreeFunction True\n",
      "Age True\n"
     ]
    }
   ],
   "source": [
    "for col in num_cols:\n",
    "    print(col, check_outlier(df, col))"
   ]
  },
  {
   "cell_type": "code",
   "execution_count": 15,
   "metadata": {
    "execution": {
     "iopub.execute_input": "2021-03-06T01:10:00.345831Z",
     "iopub.status.busy": "2021-03-06T01:10:00.345088Z",
     "iopub.status.idle": "2021-03-06T01:10:00.348011Z",
     "shell.execute_reply": "2021-03-06T01:10:00.347344Z"
    },
    "papermill": {
     "duration": 0.039879,
     "end_time": "2021-03-06T01:10:00.348144",
     "exception": false,
     "start_time": "2021-03-06T01:10:00.308265",
     "status": "completed"
    },
    "tags": []
   },
   "outputs": [],
   "source": [
    "# Replacing outliers with upper and lower limit\n",
    "def replace_with_thresholds(dataframe, variable):\n",
    "    low_limit, up_limit = outlier_thresholds(dataframe, variable)\n",
    "    dataframe.loc[(dataframe[variable] > up_limit), variable] = up_limit"
   ]
  },
  {
   "cell_type": "code",
   "execution_count": 16,
   "metadata": {
    "execution": {
     "iopub.execute_input": "2021-03-06T01:10:00.421623Z",
     "iopub.status.busy": "2021-03-06T01:10:00.417354Z",
     "iopub.status.idle": "2021-03-06T01:10:00.437122Z",
     "shell.execute_reply": "2021-03-06T01:10:00.437669Z"
    },
    "papermill": {
     "duration": 0.057685,
     "end_time": "2021-03-06T01:10:00.437850",
     "exception": false,
     "start_time": "2021-03-06T01:10:00.380165",
     "status": "completed"
    },
    "tags": []
   },
   "outputs": [],
   "source": [
    "for col in num_cols:\n",
    "        replace_with_thresholds(df, col)"
   ]
  },
  {
   "cell_type": "markdown",
   "metadata": {
    "papermill": {
     "duration": 0.03174,
     "end_time": "2021-03-06T01:10:00.501936",
     "exception": false,
     "start_time": "2021-03-06T01:10:00.470196",
     "status": "completed"
    },
    "tags": []
   },
   "source": [
    "## Missing Values\n"
   ]
  },
  {
   "cell_type": "code",
   "execution_count": 17,
   "metadata": {
    "execution": {
     "iopub.execute_input": "2021-03-06T01:10:00.570823Z",
     "iopub.status.busy": "2021-03-06T01:10:00.570220Z",
     "iopub.status.idle": "2021-03-06T01:10:00.577359Z",
     "shell.execute_reply": "2021-03-06T01:10:00.577971Z"
    },
    "papermill": {
     "duration": 0.044185,
     "end_time": "2021-03-06T01:10:00.578140",
     "exception": false,
     "start_time": "2021-03-06T01:10:00.533955",
     "status": "completed"
    },
    "tags": []
   },
   "outputs": [
    {
     "data": {
      "text/plain": [
       "Pregnancies                   0\n",
       "Glucose                       5\n",
       "BloodPressure                35\n",
       "SkinThickness               227\n",
       "Insulin                     374\n",
       "BMI                          11\n",
       "DiabetesPedigreeFunction      0\n",
       "Age                           0\n",
       "Outcome                       0\n",
       "dtype: int64"
      ]
     },
     "execution_count": 17,
     "metadata": {},
     "output_type": "execute_result"
    }
   ],
   "source": [
    "df.isnull().sum()"
   ]
  },
  {
   "cell_type": "code",
   "execution_count": 18,
   "metadata": {
    "execution": {
     "iopub.execute_input": "2021-03-06T01:10:00.647123Z",
     "iopub.status.busy": "2021-03-06T01:10:00.646497Z",
     "iopub.status.idle": "2021-03-06T01:10:00.667139Z",
     "shell.execute_reply": "2021-03-06T01:10:00.666608Z"
    },
    "papermill": {
     "duration": 0.056308,
     "end_time": "2021-03-06T01:10:00.667276",
     "exception": false,
     "start_time": "2021-03-06T01:10:00.610968",
     "status": "completed"
    },
    "tags": []
   },
   "outputs": [
    {
     "data": {
      "text/html": [
       "<div>\n",
       "<style scoped>\n",
       "    .dataframe tbody tr th:only-of-type {\n",
       "        vertical-align: middle;\n",
       "    }\n",
       "\n",
       "    .dataframe tbody tr th {\n",
       "        vertical-align: top;\n",
       "    }\n",
       "\n",
       "    .dataframe thead th {\n",
       "        text-align: right;\n",
       "    }\n",
       "</style>\n",
       "<table border=\"1\" class=\"dataframe\">\n",
       "  <thead>\n",
       "    <tr style=\"text-align: right;\">\n",
       "      <th></th>\n",
       "      <th>Age</th>\n",
       "      <th>BMI</th>\n",
       "      <th>BloodPressure</th>\n",
       "      <th>DiabetesPedigreeFunction</th>\n",
       "      <th>Glucose</th>\n",
       "      <th>Insulin</th>\n",
       "      <th>Pregnancies</th>\n",
       "      <th>SkinThickness</th>\n",
       "    </tr>\n",
       "    <tr>\n",
       "      <th>Outcome</th>\n",
       "      <th></th>\n",
       "      <th></th>\n",
       "      <th></th>\n",
       "      <th></th>\n",
       "      <th></th>\n",
       "      <th></th>\n",
       "      <th></th>\n",
       "      <th></th>\n",
       "    </tr>\n",
       "  </thead>\n",
       "  <tbody>\n",
       "    <tr>\n",
       "      <th>0</th>\n",
       "      <td>31.135000</td>\n",
       "      <td>30.841141</td>\n",
       "      <td>70.810811</td>\n",
       "      <td>0.420264</td>\n",
       "      <td>110.643863</td>\n",
       "      <td>125.186553</td>\n",
       "      <td>3.298000</td>\n",
       "      <td>27.227147</td>\n",
       "    </tr>\n",
       "    <tr>\n",
       "      <th>1</th>\n",
       "      <td>37.052239</td>\n",
       "      <td>35.262406</td>\n",
       "      <td>75.210317</td>\n",
       "      <td>0.531022</td>\n",
       "      <td>142.319549</td>\n",
       "      <td>189.782692</td>\n",
       "      <td>4.843284</td>\n",
       "      <td>32.733333</td>\n",
       "    </tr>\n",
       "  </tbody>\n",
       "</table>\n",
       "</div>"
      ],
      "text/plain": [
       "               Age        BMI  BloodPressure  DiabetesPedigreeFunction  \\\n",
       "Outcome                                                                  \n",
       "0        31.135000  30.841141      70.810811                  0.420264   \n",
       "1        37.052239  35.262406      75.210317                  0.531022   \n",
       "\n",
       "            Glucose     Insulin  Pregnancies  SkinThickness  \n",
       "Outcome                                                      \n",
       "0        110.643863  125.186553     3.298000      27.227147  \n",
       "1        142.319549  189.782692     4.843284      32.733333  "
      ]
     },
     "execution_count": 18,
     "metadata": {},
     "output_type": "execute_result"
    }
   ],
   "source": [
    "df.pivot_table(df, index=[\"Outcome\"])"
   ]
  },
  {
   "cell_type": "markdown",
   "metadata": {
    "papermill": {
     "duration": 0.033217,
     "end_time": "2021-03-06T01:10:00.734093",
     "exception": false,
     "start_time": "2021-03-06T01:10:00.700876",
     "status": "completed"
    },
    "tags": []
   },
   "source": [
    "When the variables are examined according to Outcome's being 1 and 0, it is seen that there are differences. When filling the blank values, they should be filled in consideration of this situation."
   ]
  },
  {
   "cell_type": "code",
   "execution_count": 19,
   "metadata": {
    "execution": {
     "iopub.execute_input": "2021-03-06T01:10:00.805036Z",
     "iopub.status.busy": "2021-03-06T01:10:00.804104Z",
     "iopub.status.idle": "2021-03-06T01:10:00.837481Z",
     "shell.execute_reply": "2021-03-06T01:10:00.837951Z"
    },
    "papermill": {
     "duration": 0.070464,
     "end_time": "2021-03-06T01:10:00.838132",
     "exception": false,
     "start_time": "2021-03-06T01:10:00.767668",
     "status": "completed"
    },
    "tags": []
   },
   "outputs": [],
   "source": [
    "for col in df.columns:\n",
    "    df.loc[(df[\"Outcome\"] == 0) & (df[col].isnull()), col] = df[df[\"Outcome\"] == 0][col].median()\n",
    "    df.loc[(df[\"Outcome\"] == 1) & (df[col].isnull()), col] = df[df[\"Outcome\"] == 1][col].median()"
   ]
  },
  {
   "cell_type": "markdown",
   "metadata": {
    "papermill": {
     "duration": 0.033081,
     "end_time": "2021-03-06T01:10:00.904618",
     "exception": false,
     "start_time": "2021-03-06T01:10:00.871537",
     "status": "completed"
    },
    "tags": []
   },
   "source": [
    "## Feature Engineering"
   ]
  },
  {
   "cell_type": "code",
   "execution_count": 20,
   "metadata": {
    "execution": {
     "iopub.execute_input": "2021-03-06T01:10:00.975694Z",
     "iopub.status.busy": "2021-03-06T01:10:00.974679Z",
     "iopub.status.idle": "2021-03-06T01:10:01.008968Z",
     "shell.execute_reply": "2021-03-06T01:10:01.009483Z"
    },
    "papermill": {
     "duration": 0.071495,
     "end_time": "2021-03-06T01:10:01.009663",
     "exception": false,
     "start_time": "2021-03-06T01:10:00.938168",
     "status": "completed"
    },
    "tags": []
   },
   "outputs": [],
   "source": [
    "\n",
    "df.loc[(df[\"BMI\"] < 18.5), \"NEW_BMI_CAT\"] = \"Underweight\"\n",
    "df.loc[(df[\"BMI\"] > 18.5) & (df[\"BMI\"] < 25), \"NEW_BMI_CAT\"] = \"Normal\"\n",
    "df.loc[(df[\"BMI\"] > 25) & (df[\"BMI\"] < 30), \"NEW_BMI_CAT\"] = \"Overweight\"\n",
    "df.loc[(df[\"BMI\"] > 30) & (df[\"BMI\"] < 40), \"NEW_BMI_CAT\"] = \"Obese\"\n",
    "\n",
    "df.loc[(df[\"Glucose\"] < 70), \"NEW_GLUCOSE_CAT\"] = \"Low\"\n",
    "df.loc[(df[\"Glucose\"] > 70) & (df[\"Glucose\"] < 99), \"NEW_GLUCOSE_CAT\"] = \"Normal\"\n",
    "df.loc[(df[\"Glucose\"] > 99) & (df[\"Glucose\"] < 126), \"NEW_GLUCOSE_CAT\"] = \"Secret\"\n",
    "df.loc[(df[\"Glucose\"] > 126) & (df[\"Glucose\"] < 200), \"NEW_GLUCOSE_CAT\"] = \"High\"\n",
    "\n",
    "df.loc[df['SkinThickness'] < 30, \"NEW_SKIN_THICKNESS\"] = \"Normal\"\n",
    "df.loc[df['SkinThickness'] >= 30, \"NEW_SKIN_THICKNESS\"] = \"HighFat\"\n",
    "\n",
    "df.loc[df['Pregnancies'] == 0, \"NEW_PREGNANCIES\"] = \"NoPregnancy\"\n",
    "df.loc[((df['Pregnancies'] > 0) & (df['Pregnancies'] <= 4)), \"NEW_PREGNANCIES\"] = \"StdPregnancy\"\n",
    "df.loc[(df['Pregnancies'] > 4), \"NEW_PREGNANCIES\"] = \"OverPregnancy\"\n",
    "\n",
    "df.loc[(df['SkinThickness'] < 30) & (df['BloodPressure'] < 80), \"NEW_CIRCULATION_LEVEL\"] = \"Normal\"\n",
    "df.loc[(df['SkinThickness'] >= 30) & (df['BloodPressure'] >= 80), \"NEW_CIRCULATION_LEVEL\"] = \"CircularAtHighRisk\"\n",
    "df.loc[((df['SkinThickness'] < 30) & (df['BloodPressure'] >= 80))\n",
    "       | ((df['SkinThickness'] >= 30) & (df['BloodPressure'] < 80)), \"NEW_CIRCULATION_LEVEL\"] = \"CircularAtMediumRisk\"\n",
    "\n",
    "df[\"Pre_Age_Cat\"] = df[\"Age\"] * df[\"Pregnancies\"]\n",
    "\n",
    "df[\"Ins_Glu_Cat\"] = df[\"Glucose\"] * df[\"Insulin\"]"
   ]
  },
  {
   "cell_type": "markdown",
   "metadata": {
    "papermill": {
     "duration": 0.033497,
     "end_time": "2021-03-06T01:10:01.076921",
     "exception": false,
     "start_time": "2021-03-06T01:10:01.043424",
     "status": "completed"
    },
    "tags": []
   },
   "source": [
    "## Label Encoding"
   ]
  },
  {
   "cell_type": "code",
   "execution_count": 21,
   "metadata": {
    "execution": {
     "iopub.execute_input": "2021-03-06T01:10:01.149476Z",
     "iopub.status.busy": "2021-03-06T01:10:01.148449Z",
     "iopub.status.idle": "2021-03-06T01:10:01.153121Z",
     "shell.execute_reply": "2021-03-06T01:10:01.153618Z"
    },
    "papermill": {
     "duration": 0.043165,
     "end_time": "2021-03-06T01:10:01.153802",
     "exception": false,
     "start_time": "2021-03-06T01:10:01.110637",
     "status": "completed"
    },
    "tags": []
   },
   "outputs": [],
   "source": [
    "def label_encoder(dataframe, binary_col):\n",
    "    labelencoder = preprocessing.LabelEncoder()\n",
    "    dataframe[binary_col] = labelencoder.fit_transform(dataframe[binary_col])\n",
    "    return dataframe"
   ]
  },
  {
   "cell_type": "code",
   "execution_count": 22,
   "metadata": {
    "execution": {
     "iopub.execute_input": "2021-03-06T01:10:01.225112Z",
     "iopub.status.busy": "2021-03-06T01:10:01.224167Z",
     "iopub.status.idle": "2021-03-06T01:10:01.231135Z",
     "shell.execute_reply": "2021-03-06T01:10:01.230615Z"
    },
    "papermill": {
     "duration": 0.043721,
     "end_time": "2021-03-06T01:10:01.231273",
     "exception": false,
     "start_time": "2021-03-06T01:10:01.187552",
     "status": "completed"
    },
    "tags": []
   },
   "outputs": [],
   "source": [
    "binary_cols = [col for col in df.columns if df[col].dtypes == \"O\"\n",
    "               and len(df[col].unique()) == 2]"
   ]
  },
  {
   "cell_type": "code",
   "execution_count": 23,
   "metadata": {
    "execution": {
     "iopub.execute_input": "2021-03-06T01:10:01.302834Z",
     "iopub.status.busy": "2021-03-06T01:10:01.302079Z",
     "iopub.status.idle": "2021-03-06T01:10:01.314957Z",
     "shell.execute_reply": "2021-03-06T01:10:01.315489Z"
    },
    "papermill": {
     "duration": 0.050145,
     "end_time": "2021-03-06T01:10:01.315665",
     "exception": false,
     "start_time": "2021-03-06T01:10:01.265520",
     "status": "completed"
    },
    "tags": []
   },
   "outputs": [],
   "source": [
    "for col in df.columns:\n",
    "    label_encoder(df, col)"
   ]
  },
  {
   "cell_type": "markdown",
   "metadata": {
    "papermill": {
     "duration": 0.034123,
     "end_time": "2021-03-06T01:10:01.383879",
     "exception": false,
     "start_time": "2021-03-06T01:10:01.349756",
     "status": "completed"
    },
    "tags": []
   },
   "source": [
    "## One-Hot Encoding"
   ]
  },
  {
   "cell_type": "code",
   "execution_count": 24,
   "metadata": {
    "execution": {
     "iopub.execute_input": "2021-03-06T01:10:01.455243Z",
     "iopub.status.busy": "2021-03-06T01:10:01.454676Z",
     "iopub.status.idle": "2021-03-06T01:10:01.459243Z",
     "shell.execute_reply": "2021-03-06T01:10:01.459729Z"
    },
    "papermill": {
     "duration": 0.042107,
     "end_time": "2021-03-06T01:10:01.459925",
     "exception": false,
     "start_time": "2021-03-06T01:10:01.417818",
     "status": "completed"
    },
    "tags": []
   },
   "outputs": [],
   "source": [
    "def one_hot_encoder(dataframe, categorical_cols, drop_first=False):\n",
    "    dataframe = pd.get_dummies(dataframe, columns=categorical_cols, drop_first=drop_first)\n",
    "    return dataframe"
   ]
  },
  {
   "cell_type": "code",
   "execution_count": 25,
   "metadata": {
    "execution": {
     "iopub.execute_input": "2021-03-06T01:10:01.535935Z",
     "iopub.status.busy": "2021-03-06T01:10:01.534888Z",
     "iopub.status.idle": "2021-03-06T01:10:01.539236Z",
     "shell.execute_reply": "2021-03-06T01:10:01.538623Z"
    },
    "papermill": {
     "duration": 0.044626,
     "end_time": "2021-03-06T01:10:01.539412",
     "exception": false,
     "start_time": "2021-03-06T01:10:01.494786",
     "status": "completed"
    },
    "tags": []
   },
   "outputs": [],
   "source": [
    "ohe_cols = [col for col in df.columns if 10 >= len(df[col].unique()) > 2]"
   ]
  },
  {
   "cell_type": "code",
   "execution_count": 26,
   "metadata": {
    "execution": {
     "iopub.execute_input": "2021-03-06T01:10:01.627426Z",
     "iopub.status.busy": "2021-03-06T01:10:01.623679Z",
     "iopub.status.idle": "2021-03-06T01:10:01.666937Z",
     "shell.execute_reply": "2021-03-06T01:10:01.667557Z"
    },
    "papermill": {
     "duration": 0.086112,
     "end_time": "2021-03-06T01:10:01.667778",
     "exception": false,
     "start_time": "2021-03-06T01:10:01.581666",
     "status": "completed"
    },
    "tags": []
   },
   "outputs": [
    {
     "data": {
      "text/html": [
       "<div>\n",
       "<style scoped>\n",
       "    .dataframe tbody tr th:only-of-type {\n",
       "        vertical-align: middle;\n",
       "    }\n",
       "\n",
       "    .dataframe tbody tr th {\n",
       "        vertical-align: top;\n",
       "    }\n",
       "\n",
       "    .dataframe thead th {\n",
       "        text-align: right;\n",
       "    }\n",
       "</style>\n",
       "<table border=\"1\" class=\"dataframe\">\n",
       "  <thead>\n",
       "    <tr style=\"text-align: right;\">\n",
       "      <th></th>\n",
       "      <th>Pregnancies</th>\n",
       "      <th>Glucose</th>\n",
       "      <th>BloodPressure</th>\n",
       "      <th>SkinThickness</th>\n",
       "      <th>Insulin</th>\n",
       "      <th>BMI</th>\n",
       "      <th>DiabetesPedigreeFunction</th>\n",
       "      <th>Age</th>\n",
       "      <th>Outcome</th>\n",
       "      <th>NEW_SKIN_THICKNESS</th>\n",
       "      <th>...</th>\n",
       "      <th>NEW_BMI_CAT_3</th>\n",
       "      <th>NEW_BMI_CAT_4</th>\n",
       "      <th>NEW_GLUCOSE_CAT_1</th>\n",
       "      <th>NEW_GLUCOSE_CAT_2</th>\n",
       "      <th>NEW_GLUCOSE_CAT_3</th>\n",
       "      <th>NEW_GLUCOSE_CAT_4</th>\n",
       "      <th>NEW_PREGNANCIES_1</th>\n",
       "      <th>NEW_PREGNANCIES_2</th>\n",
       "      <th>NEW_CIRCULATION_LEVEL_1</th>\n",
       "      <th>NEW_CIRCULATION_LEVEL_2</th>\n",
       "    </tr>\n",
       "  </thead>\n",
       "  <tbody>\n",
       "    <tr>\n",
       "      <th>0</th>\n",
       "      <td>6</td>\n",
       "      <td>85</td>\n",
       "      <td>21</td>\n",
       "      <td>27</td>\n",
       "      <td>103</td>\n",
       "      <td>122</td>\n",
       "      <td>350</td>\n",
       "      <td>29</td>\n",
       "      <td>1</td>\n",
       "      <td>0</td>\n",
       "      <td>...</td>\n",
       "      <td>0</td>\n",
       "      <td>0</td>\n",
       "      <td>0</td>\n",
       "      <td>0</td>\n",
       "      <td>0</td>\n",
       "      <td>0</td>\n",
       "      <td>1</td>\n",
       "      <td>0</td>\n",
       "      <td>1</td>\n",
       "      <td>0</td>\n",
       "    </tr>\n",
       "    <tr>\n",
       "      <th>1</th>\n",
       "      <td>1</td>\n",
       "      <td>22</td>\n",
       "      <td>18</td>\n",
       "      <td>21</td>\n",
       "      <td>66</td>\n",
       "      <td>61</td>\n",
       "      <td>196</td>\n",
       "      <td>10</td>\n",
       "      <td>0</td>\n",
       "      <td>1</td>\n",
       "      <td>...</td>\n",
       "      <td>0</td>\n",
       "      <td>0</td>\n",
       "      <td>0</td>\n",
       "      <td>1</td>\n",
       "      <td>0</td>\n",
       "      <td>0</td>\n",
       "      <td>0</td>\n",
       "      <td>1</td>\n",
       "      <td>0</td>\n",
       "      <td>1</td>\n",
       "    </tr>\n",
       "    <tr>\n",
       "      <th>2</th>\n",
       "      <td>8</td>\n",
       "      <td>120</td>\n",
       "      <td>16</td>\n",
       "      <td>24</td>\n",
       "      <td>103</td>\n",
       "      <td>29</td>\n",
       "      <td>368</td>\n",
       "      <td>11</td>\n",
       "      <td>1</td>\n",
       "      <td>0</td>\n",
       "      <td>...</td>\n",
       "      <td>0</td>\n",
       "      <td>0</td>\n",
       "      <td>0</td>\n",
       "      <td>0</td>\n",
       "      <td>0</td>\n",
       "      <td>0</td>\n",
       "      <td>1</td>\n",
       "      <td>0</td>\n",
       "      <td>1</td>\n",
       "      <td>0</td>\n",
       "    </tr>\n",
       "    <tr>\n",
       "      <th>3</th>\n",
       "      <td>1</td>\n",
       "      <td>26</td>\n",
       "      <td>18</td>\n",
       "      <td>15</td>\n",
       "      <td>61</td>\n",
       "      <td>76</td>\n",
       "      <td>53</td>\n",
       "      <td>0</td>\n",
       "      <td>0</td>\n",
       "      <td>1</td>\n",
       "      <td>...</td>\n",
       "      <td>0</td>\n",
       "      <td>0</td>\n",
       "      <td>0</td>\n",
       "      <td>1</td>\n",
       "      <td>0</td>\n",
       "      <td>0</td>\n",
       "      <td>0</td>\n",
       "      <td>1</td>\n",
       "      <td>0</td>\n",
       "      <td>1</td>\n",
       "    </tr>\n",
       "    <tr>\n",
       "      <th>4</th>\n",
       "      <td>0</td>\n",
       "      <td>74</td>\n",
       "      <td>3</td>\n",
       "      <td>27</td>\n",
       "      <td>102</td>\n",
       "      <td>208</td>\n",
       "      <td>489</td>\n",
       "      <td>12</td>\n",
       "      <td>1</td>\n",
       "      <td>0</td>\n",
       "      <td>...</td>\n",
       "      <td>0</td>\n",
       "      <td>1</td>\n",
       "      <td>0</td>\n",
       "      <td>0</td>\n",
       "      <td>0</td>\n",
       "      <td>0</td>\n",
       "      <td>0</td>\n",
       "      <td>0</td>\n",
       "      <td>1</td>\n",
       "      <td>0</td>\n",
       "    </tr>\n",
       "    <tr>\n",
       "      <th>...</th>\n",
       "      <td>...</td>\n",
       "      <td>...</td>\n",
       "      <td>...</td>\n",
       "      <td>...</td>\n",
       "      <td>...</td>\n",
       "      <td>...</td>\n",
       "      <td>...</td>\n",
       "      <td>...</td>\n",
       "      <td>...</td>\n",
       "      <td>...</td>\n",
       "      <td>...</td>\n",
       "      <td>...</td>\n",
       "      <td>...</td>\n",
       "      <td>...</td>\n",
       "      <td>...</td>\n",
       "      <td>...</td>\n",
       "      <td>...</td>\n",
       "      <td>...</td>\n",
       "      <td>...</td>\n",
       "      <td>...</td>\n",
       "      <td>...</td>\n",
       "    </tr>\n",
       "    <tr>\n",
       "      <th>763</th>\n",
       "      <td>10</td>\n",
       "      <td>38</td>\n",
       "      <td>25</td>\n",
       "      <td>40</td>\n",
       "      <td>109</td>\n",
       "      <td>117</td>\n",
       "      <td>55</td>\n",
       "      <td>42</td>\n",
       "      <td>0</td>\n",
       "      <td>0</td>\n",
       "      <td>...</td>\n",
       "      <td>0</td>\n",
       "      <td>0</td>\n",
       "      <td>0</td>\n",
       "      <td>0</td>\n",
       "      <td>1</td>\n",
       "      <td>0</td>\n",
       "      <td>1</td>\n",
       "      <td>0</td>\n",
       "      <td>1</td>\n",
       "      <td>0</td>\n",
       "    </tr>\n",
       "    <tr>\n",
       "      <th>764</th>\n",
       "      <td>2</td>\n",
       "      <td>59</td>\n",
       "      <td>20</td>\n",
       "      <td>19</td>\n",
       "      <td>66</td>\n",
       "      <td>154</td>\n",
       "      <td>187</td>\n",
       "      <td>6</td>\n",
       "      <td>0</td>\n",
       "      <td>1</td>\n",
       "      <td>...</td>\n",
       "      <td>0</td>\n",
       "      <td>0</td>\n",
       "      <td>0</td>\n",
       "      <td>0</td>\n",
       "      <td>1</td>\n",
       "      <td>0</td>\n",
       "      <td>0</td>\n",
       "      <td>1</td>\n",
       "      <td>0</td>\n",
       "      <td>1</td>\n",
       "    </tr>\n",
       "    <tr>\n",
       "      <th>765</th>\n",
       "      <td>5</td>\n",
       "      <td>58</td>\n",
       "      <td>21</td>\n",
       "      <td>15</td>\n",
       "      <td>71</td>\n",
       "      <td>57</td>\n",
       "      <td>115</td>\n",
       "      <td>9</td>\n",
       "      <td>0</td>\n",
       "      <td>1</td>\n",
       "      <td>...</td>\n",
       "      <td>0</td>\n",
       "      <td>0</td>\n",
       "      <td>0</td>\n",
       "      <td>0</td>\n",
       "      <td>1</td>\n",
       "      <td>0</td>\n",
       "      <td>1</td>\n",
       "      <td>0</td>\n",
       "      <td>0</td>\n",
       "      <td>1</td>\n",
       "    </tr>\n",
       "    <tr>\n",
       "      <th>766</th>\n",
       "      <td>1</td>\n",
       "      <td>63</td>\n",
       "      <td>13</td>\n",
       "      <td>24</td>\n",
       "      <td>103</td>\n",
       "      <td>94</td>\n",
       "      <td>195</td>\n",
       "      <td>26</td>\n",
       "      <td>1</td>\n",
       "      <td>0</td>\n",
       "      <td>...</td>\n",
       "      <td>0</td>\n",
       "      <td>0</td>\n",
       "      <td>0</td>\n",
       "      <td>0</td>\n",
       "      <td>0</td>\n",
       "      <td>1</td>\n",
       "      <td>0</td>\n",
       "      <td>1</td>\n",
       "      <td>1</td>\n",
       "      <td>0</td>\n",
       "    </tr>\n",
       "    <tr>\n",
       "      <th>767</th>\n",
       "      <td>1</td>\n",
       "      <td>30</td>\n",
       "      <td>20</td>\n",
       "      <td>23</td>\n",
       "      <td>66</td>\n",
       "      <td>97</td>\n",
       "      <td>169</td>\n",
       "      <td>2</td>\n",
       "      <td>0</td>\n",
       "      <td>0</td>\n",
       "      <td>...</td>\n",
       "      <td>0</td>\n",
       "      <td>0</td>\n",
       "      <td>0</td>\n",
       "      <td>1</td>\n",
       "      <td>0</td>\n",
       "      <td>0</td>\n",
       "      <td>0</td>\n",
       "      <td>1</td>\n",
       "      <td>1</td>\n",
       "      <td>0</td>\n",
       "    </tr>\n",
       "  </tbody>\n",
       "</table>\n",
       "<p>768 rows × 24 columns</p>\n",
       "</div>"
      ],
      "text/plain": [
       "     Pregnancies  Glucose  BloodPressure  SkinThickness  Insulin  BMI  \\\n",
       "0              6       85             21             27      103  122   \n",
       "1              1       22             18             21       66   61   \n",
       "2              8      120             16             24      103   29   \n",
       "3              1       26             18             15       61   76   \n",
       "4              0       74              3             27      102  208   \n",
       "..           ...      ...            ...            ...      ...  ...   \n",
       "763           10       38             25             40      109  117   \n",
       "764            2       59             20             19       66  154   \n",
       "765            5       58             21             15       71   57   \n",
       "766            1       63             13             24      103   94   \n",
       "767            1       30             20             23       66   97   \n",
       "\n",
       "     DiabetesPedigreeFunction  Age  Outcome  NEW_SKIN_THICKNESS  ...  \\\n",
       "0                         350   29        1                   0  ...   \n",
       "1                         196   10        0                   1  ...   \n",
       "2                         368   11        1                   0  ...   \n",
       "3                          53    0        0                   1  ...   \n",
       "4                         489   12        1                   0  ...   \n",
       "..                        ...  ...      ...                 ...  ...   \n",
       "763                        55   42        0                   0  ...   \n",
       "764                       187    6        0                   1  ...   \n",
       "765                       115    9        0                   1  ...   \n",
       "766                       195   26        1                   0  ...   \n",
       "767                       169    2        0                   0  ...   \n",
       "\n",
       "     NEW_BMI_CAT_3  NEW_BMI_CAT_4  NEW_GLUCOSE_CAT_1  NEW_GLUCOSE_CAT_2  \\\n",
       "0                0              0                  0                  0   \n",
       "1                0              0                  0                  1   \n",
       "2                0              0                  0                  0   \n",
       "3                0              0                  0                  1   \n",
       "4                0              1                  0                  0   \n",
       "..             ...            ...                ...                ...   \n",
       "763              0              0                  0                  0   \n",
       "764              0              0                  0                  0   \n",
       "765              0              0                  0                  0   \n",
       "766              0              0                  0                  0   \n",
       "767              0              0                  0                  1   \n",
       "\n",
       "     NEW_GLUCOSE_CAT_3  NEW_GLUCOSE_CAT_4  NEW_PREGNANCIES_1  \\\n",
       "0                    0                  0                  1   \n",
       "1                    0                  0                  0   \n",
       "2                    0                  0                  1   \n",
       "3                    0                  0                  0   \n",
       "4                    0                  0                  0   \n",
       "..                 ...                ...                ...   \n",
       "763                  1                  0                  1   \n",
       "764                  1                  0                  0   \n",
       "765                  1                  0                  1   \n",
       "766                  0                  1                  0   \n",
       "767                  0                  0                  0   \n",
       "\n",
       "     NEW_PREGNANCIES_2  NEW_CIRCULATION_LEVEL_1  NEW_CIRCULATION_LEVEL_2  \n",
       "0                    0                        1                        0  \n",
       "1                    1                        0                        1  \n",
       "2                    0                        1                        0  \n",
       "3                    1                        0                        1  \n",
       "4                    0                        1                        0  \n",
       "..                 ...                      ...                      ...  \n",
       "763                  0                        1                        0  \n",
       "764                  1                        0                        1  \n",
       "765                  0                        0                        1  \n",
       "766                  1                        1                        0  \n",
       "767                  1                        1                        0  \n",
       "\n",
       "[768 rows x 24 columns]"
      ]
     },
     "execution_count": 26,
     "metadata": {},
     "output_type": "execute_result"
    }
   ],
   "source": [
    "one_hot_encoder(df, ohe_cols, drop_first=True)"
   ]
  },
  {
   "cell_type": "markdown",
   "metadata": {
    "papermill": {
     "duration": 0.036067,
     "end_time": "2021-03-06T01:10:01.744619",
     "exception": false,
     "start_time": "2021-03-06T01:10:01.708552",
     "status": "completed"
    },
    "tags": []
   },
   "source": [
    "## Model"
   ]
  },
  {
   "cell_type": "code",
   "execution_count": 27,
   "metadata": {
    "execution": {
     "iopub.execute_input": "2021-03-06T01:10:01.820409Z",
     "iopub.status.busy": "2021-03-06T01:10:01.819698Z",
     "iopub.status.idle": "2021-03-06T01:10:01.827250Z",
     "shell.execute_reply": "2021-03-06T01:10:01.827801Z"
    },
    "papermill": {
     "duration": 0.047141,
     "end_time": "2021-03-06T01:10:01.827991",
     "exception": false,
     "start_time": "2021-03-06T01:10:01.780850",
     "status": "completed"
    },
    "tags": []
   },
   "outputs": [],
   "source": [
    "y = df[\"Outcome\"]\n",
    "X = df.drop([\"Outcome\"], axis=1)\n",
    "X_train, X_test, y_train, y_test = train_test_split(X, y, test_size=0.30, random_state=17)"
   ]
  },
  {
   "cell_type": "code",
   "execution_count": 28,
   "metadata": {
    "execution": {
     "iopub.execute_input": "2021-03-06T01:10:01.902628Z",
     "iopub.status.busy": "2021-03-06T01:10:01.901983Z",
     "iopub.status.idle": "2021-03-06T01:10:01.915137Z",
     "shell.execute_reply": "2021-03-06T01:10:01.913918Z"
    },
    "papermill": {
     "duration": 0.051122,
     "end_time": "2021-03-06T01:10:01.915302",
     "exception": false,
     "start_time": "2021-03-06T01:10:01.864180",
     "status": "completed"
    },
    "tags": []
   },
   "outputs": [],
   "source": [
    "cart_model = DecisionTreeClassifier(random_state=17).fit(X_train, y_train)"
   ]
  },
  {
   "cell_type": "code",
   "execution_count": 29,
   "metadata": {
    "execution": {
     "iopub.execute_input": "2021-03-06T01:10:01.994238Z",
     "iopub.status.busy": "2021-03-06T01:10:01.993545Z",
     "iopub.status.idle": "2021-03-06T01:10:05.005106Z",
     "shell.execute_reply": "2021-03-06T01:10:05.004496Z"
    },
    "papermill": {
     "duration": 3.053747,
     "end_time": "2021-03-06T01:10:05.005242",
     "exception": false,
     "start_time": "2021-03-06T01:10:01.951495",
     "status": "completed"
    },
    "tags": []
   },
   "outputs": [
    {
     "name": "stdout",
     "output_type": "stream",
     "text": [
      "Fitting 10 folds for each of 30 candidates, totalling 300 fits\n"
     ]
    },
    {
     "data": {
      "text/plain": [
       "GridSearchCV(cv=10, estimator=DecisionTreeClassifier(random_state=17),\n",
       "             n_jobs=-1,\n",
       "             param_grid={'max_depth': range(1, 11),\n",
       "                         'min_samples_split': [2, 3, 4]},\n",
       "             verbose=True)"
      ]
     },
     "execution_count": 29,
     "metadata": {},
     "output_type": "execute_result"
    }
   ],
   "source": [
    "cart_params = {'max_depth': range(1, 11),\n",
    "               \"min_samples_split\": [2, 3, 4]}\n",
    "\n",
    "cart_cv = GridSearchCV(cart_model, cart_params, cv=10, n_jobs=-1, verbose=True)\n",
    "cart_cv.fit(X_train, y_train)"
   ]
  },
  {
   "cell_type": "code",
   "execution_count": 30,
   "metadata": {
    "execution": {
     "iopub.execute_input": "2021-03-06T01:10:05.081952Z",
     "iopub.status.busy": "2021-03-06T01:10:05.081335Z",
     "iopub.status.idle": "2021-03-06T01:10:05.085898Z",
     "shell.execute_reply": "2021-03-06T01:10:05.086363Z"
    },
    "papermill": {
     "duration": 0.044536,
     "end_time": "2021-03-06T01:10:05.086537",
     "exception": false,
     "start_time": "2021-03-06T01:10:05.042001",
     "status": "completed"
    },
    "tags": []
   },
   "outputs": [
    {
     "data": {
      "text/plain": [
       "{'max_depth': 5, 'min_samples_split': 2}"
      ]
     },
     "execution_count": 30,
     "metadata": {},
     "output_type": "execute_result"
    }
   ],
   "source": [
    "cart_cv.best_params_"
   ]
  },
  {
   "cell_type": "code",
   "execution_count": 31,
   "metadata": {
    "execution": {
     "iopub.execute_input": "2021-03-06T01:10:05.164845Z",
     "iopub.status.busy": "2021-03-06T01:10:05.164183Z",
     "iopub.status.idle": "2021-03-06T01:10:05.173614Z",
     "shell.execute_reply": "2021-03-06T01:10:05.172980Z"
    },
    "papermill": {
     "duration": 0.049749,
     "end_time": "2021-03-06T01:10:05.173751",
     "exception": false,
     "start_time": "2021-03-06T01:10:05.124002",
     "status": "completed"
    },
    "tags": []
   },
   "outputs": [],
   "source": [
    "cart_tuned = DecisionTreeClassifier(**cart_cv.best_params_).fit(X_train, y_train)"
   ]
  },
  {
   "cell_type": "code",
   "execution_count": 32,
   "metadata": {
    "execution": {
     "iopub.execute_input": "2021-03-06T01:10:05.257676Z",
     "iopub.status.busy": "2021-03-06T01:10:05.256936Z",
     "iopub.status.idle": "2021-03-06T01:10:05.269308Z",
     "shell.execute_reply": "2021-03-06T01:10:05.270013Z"
    },
    "papermill": {
     "duration": 0.059494,
     "end_time": "2021-03-06T01:10:05.270241",
     "exception": false,
     "start_time": "2021-03-06T01:10:05.210747",
     "status": "completed"
    },
    "tags": []
   },
   "outputs": [
    {
     "name": "stdout",
     "output_type": "stream",
     "text": [
      "              precision    recall  f1-score   support\n",
      "\n",
      "           0       0.88      0.91      0.90       150\n",
      "           1       0.83      0.77      0.79        81\n",
      "\n",
      "    accuracy                           0.86       231\n",
      "   macro avg       0.85      0.84      0.85       231\n",
      "weighted avg       0.86      0.86      0.86       231\n",
      "\n"
     ]
    },
    {
     "data": {
      "text/plain": [
       "0.8774897119341564"
      ]
     },
     "execution_count": 32,
     "metadata": {},
     "output_type": "execute_result"
    }
   ],
   "source": [
    "# test error\n",
    "y_pred = cart_tuned.predict(X_test)\n",
    "y_prob = cart_tuned.predict_proba(X_test)[:, 1]\n",
    "print(classification_report(y_test, y_pred))\n",
    "roc_auc_score(y_test, y_prob)"
   ]
  }
 ],
 "metadata": {
  "kernelspec": {
   "display_name": "Python 3",
   "language": "python",
   "name": "python3"
  },
  "language_info": {
   "codemirror_mode": {
    "name": "ipython",
    "version": 3
   },
   "file_extension": ".py",
   "mimetype": "text/x-python",
   "name": "python",
   "nbconvert_exporter": "python",
   "pygments_lexer": "ipython3",
   "version": "3.7.9"
  },
  "papermill": {
   "default_parameters": {},
   "duration": 24.665792,
   "end_time": "2021-03-06T01:10:06.119046",
   "environment_variables": {},
   "exception": null,
   "input_path": "__notebook__.ipynb",
   "output_path": "__notebook__.ipynb",
   "parameters": {},
   "start_time": "2021-03-06T01:09:41.453254",
   "version": "2.2.2"
  }
 },
 "nbformat": 4,
 "nbformat_minor": 4
}
